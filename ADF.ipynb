{
 "cells": [
  {
   "cell_type": "code",
   "execution_count": 23,
   "id": "608da0f5-d03b-40e3-bdbb-c71b6eeebf6d",
   "metadata": {},
   "outputs": [],
   "source": [
    "import pandas as pd\n",
    "from statsmodels.tsa.stattools import adfuller\n",
    "data = pd.read_csv(\"ADF.csv\")\n",
    "## DATA Source:https://cbr.ru/hd_base/infl/?UniDbQuery.Posted=True&UniDbQuery.From=17.09.2013&UniDbQuery.To=28.02.2024"
   ]
  },
  {
   "cell_type": "code",
   "execution_count": 3,
   "id": "565dc96b-c476-4e29-a135-1c1d6a142d68",
   "metadata": {},
   "outputs": [],
   "source": [
    "df = pd.DataFrame(data)"
   ]
  },
  {
   "cell_type": "code",
   "execution_count": 4,
   "id": "c141580f-c7a4-4c45-83d4-16a77c650fb3",
   "metadata": {},
   "outputs": [],
   "source": [
    "df['Date'] = pd.to_datetime(df['Date'], dayfirst=True)"
   ]
  },
  {
   "cell_type": "code",
   "execution_count": 5,
   "id": "3478e3f7-57ff-4b2e-a396-528c8d2f45b4",
   "metadata": {},
   "outputs": [],
   "source": [
    "df.set_index('Date', inplace=True)"
   ]
  },
  {
   "cell_type": "code",
   "execution_count": 6,
   "id": "166a0b20-dc96-43bb-885b-732a0a2d9279",
   "metadata": {},
   "outputs": [],
   "source": [
    "result = adfuller(df['Inf'])"
   ]
  },
  {
   "cell_type": "code",
   "execution_count": 7,
   "id": "6418e7da-7ff7-45b6-91c3-53e8ad4c1f01",
   "metadata": {},
   "outputs": [
    {
     "name": "stdout",
     "output_type": "stream",
     "text": [
      "ADF Statistic: -1.698152\n",
      "p-value: 0.432065\n",
      "Critical Values:\n",
      "\t1%: -3.491\n",
      "\t5%: -2.888\n",
      "\t10%: -2.581\n"
     ]
    }
   ],
   "source": [
    "print('ADF Statistic: %f' % result[0])\n",
    "print('p-value: %f' % result[1])\n",
    "print('Critical Values:')\n",
    "for key, value in result[4].items():\n",
    "    print('\\t%s: %.3f' % (key, value))"
   ]
  },
  {
   "cell_type": "code",
   "execution_count": 8,
   "id": "8b326515-4f02-489f-a1cb-907bfc66a2b4",
   "metadata": {},
   "outputs": [],
   "source": [
    "result = adfuller(df['kr'])"
   ]
  },
  {
   "cell_type": "code",
   "execution_count": 9,
   "id": "b7db3fe3-6d3c-49ad-aa3c-a1fededbb089",
   "metadata": {},
   "outputs": [
    {
     "name": "stdout",
     "output_type": "stream",
     "text": [
      "ADF Statistic: -3.062779\n",
      "p-value: 0.029433\n",
      "Critical Values:\n",
      "\t1%: -3.485\n",
      "\t5%: -2.886\n",
      "\t10%: -2.580\n"
     ]
    }
   ],
   "source": [
    "print('ADF Statistic: %f' % result[0])\n",
    "print('p-value: %f' % result[1])\n",
    "print('Critical Values:')\n",
    "for key, value in result[4].items():\n",
    "    print('\\t%s: %.3f' % (key, value))\n",
    "    "
   ]
  },
  {
   "cell_type": "code",
   "execution_count": 19,
   "id": "240832cd-4e42-4f78-8375-3ba4a2d650af",
   "metadata": {},
   "outputs": [],
   "source": [
    "#ARIMA Model"
   ]
  },
  {
   "cell_type": "code",
   "execution_count": 11,
   "id": "4236873f-b519-4528-a99b-8d720cbec133",
   "metadata": {},
   "outputs": [],
   "source": [
    "from statsmodels.tsa.arima.model import ARIMA"
   ]
  },
  {
   "cell_type": "code",
   "execution_count": 20,
   "id": "21511e08-8d94-4b45-a9fa-4fdcbbad8665",
   "metadata": {},
   "outputs": [],
   "source": [
    "#ACF,PACF Graph"
   ]
  },
  {
   "cell_type": "code",
   "execution_count": 13,
   "id": "b4238739-1849-4c32-878d-20b8a7bee6b5",
   "metadata": {},
   "outputs": [],
   "source": [
    "import numpy as np\n",
    "import matplotlib.pyplot as plt\n",
    "import statsmodels.api as sm"
   ]
  },
  {
   "cell_type": "code",
   "execution_count": 14,
   "id": "d25ba88d-8221-4523-856c-c39a0972087a",
   "metadata": {},
   "outputs": [
    {
     "name": "stderr",
     "output_type": "stream",
     "text": [
      "C:\\Users\\SHIP\\anaconda3\\lib\\site-packages\\statsmodels\\graphics\\tsaplots.py:348: FutureWarning: The default method 'yw' can produce PACF values outside of the [-1,1] interval. After 0.13, the default will change tounadjusted Yule-Walker ('ywm'). You can use this method now by setting method='ywm'.\n",
      "  warnings.warn(\n"
     ]
    },
    {
     "data": {
      "image/png": "[encoded data removed]",
      "text/plain": [
       "<Figure size 720x576 with 2 Axes>"
      ]
     },
     "metadata": {
      "needs_background": "light"
     },
     "output_type": "display_data"
    }
   ],
   "source": [
    "# Simulating time series data\n",
    "np.random.seed(42)\n",
    "data = np.random.randn(100).cumsum()\n",
    "\n",
    "# Plotting ACF and PACF\n",
    "fig, ax = plt.subplots(2, 1, figsize=(10, 8))\n",
    "\n",
    "# ACF\n",
    "sm.graphics.tsa.plot_acf(data, lags=40, ax=ax[0])\n",
    "\n",
    "# PACF\n",
    "sm.graphics.tsa.plot_pacf(data, lags=40, ax=ax[1])\n",
    "\n",
    "plt.tight_layout()\n",
    "plt.show()"
   ]
  },
  {
   "cell_type": "code",
   "execution_count": 21,
   "id": "077d7aef-1d5d-4a8d-85d2-8fc2137677c7",
   "metadata": {},
   "outputs": [],
   "source": [
    "# ACF 8阶拖尾 q=8，PACF 1阶截尾 p=1"
   ]
  },
  {
   "cell_type": "code",
   "execution_count": 18,
   "id": "5fe2ea4a-2f81-4c50-ad34-f39854880723",
   "metadata": {},
   "outputs": [
    {
     "name": "stdout",
     "output_type": "stream",
     "text": [
      "                               SARIMAX Results                                \n",
      "==============================================================================\n",
      "Dep. Variable:                     kr   No. Observations:                  100\n",
      "Model:                 ARIMA(1, 0, 8)   Log Likelihood                -130.582\n",
      "Date:                Sat, 02 Mar 2024   AIC                            283.165\n",
      "Time:                        15:55:30   BIC                            311.822\n",
      "Sample:                             0   HQIC                           294.763\n",
      "                                - 100                                         \n",
      "Covariance Type:                  opg                                         \n",
      "==============================================================================\n",
      "                 coef    std err          z      P>|z|      [0.025      0.975]\n",
      "------------------------------------------------------------------------------\n",
      "const         -5.7507      3.196     -1.799      0.072     -12.014       0.513\n",
      "ar.L1          0.9777      0.027     35.906      0.000       0.924       1.031\n",
      "ma.L1          0.0353      0.118      0.299      0.765      -0.196       0.266\n",
      "ma.L2         -0.0344      0.124     -0.278      0.781      -0.277       0.208\n",
      "ma.L3          0.0136      0.114      0.119      0.905      -0.209       0.237\n",
      "ma.L4         -0.0075      0.107     -0.070      0.944      -0.217       0.202\n",
      "ma.L5          0.2859      0.114      2.501      0.012       0.062       0.510\n",
      "ma.L6         -0.0817      0.096     -0.847      0.397      -0.271       0.107\n",
      "ma.L7         -0.0050      0.124     -0.040      0.968      -0.248       0.238\n",
      "ma.L8         -0.0055      0.119     -0.046      0.964      -0.239       0.228\n",
      "sigma2         0.7666      0.124      6.170      0.000       0.523       1.010\n",
      "===================================================================================\n",
      "Ljung-Box (L1) (Q):                   0.04   Jarque-Bera (JB):                 0.48\n",
      "Prob(Q):                              0.84   Prob(JB):                         0.79\n",
      "Heteroskedasticity (H):               0.93   Skew:                             0.15\n",
      "Prob(H) (two-sided):                  0.83   Kurtosis:                         2.86\n",
      "===================================================================================\n",
      "\n",
      "Warnings:\n",
      "[1] Covariance matrix calculated using the outer product of gradients (complex-step).\n",
      "100   -10.648377\n",
      "101   -10.403317\n",
      "102   -10.185720\n",
      "103   -10.128103\n",
      "104   -10.071867\n",
      "Name: predicted_mean, dtype: float64\n"
     ]
    }
   ],
   "source": [
    "np.random.seed(42)\n",
    "data = pd.DataFrame({'kr': np.random.randn(100).cumsum()})\n",
    "# Fit an ARIMA model\n",
    "model = ARIMA(data['kr'], order=(1, 0, 8))\n",
    "model_fit = model.fit()\n",
    "\n",
    "# Print out the summary of the fit\n",
    "print(model_fit.summary())\n",
    "\n",
    "# Make forecasts\n",
    "forecast = model_fit.forecast(steps=5)\n",
    "print(forecast)"
   ]
  },
  {
   "cell_type": "markdown",
   "id": "8d36acfb-e22d-4649-8d22-d9cba1704250",
   "metadata": {},
   "source": [
    "WE FAILED, The prediction is a negative value, because there are not enough observations.\n",
    "失败了，预测出来的是负值"
   ]
  },
  {
   "cell_type": "code",
   "execution_count": null,
   "id": "b400959c-671d-4eba-96d5-66a25c5b9c79",
   "metadata": {},
   "outputs": [],
   "source": []
  }
 ],
 "metadata": {
  "kernelspec": {
   "display_name": "Python 3 (ipykernel)",
   "language": "python",
   "name": "python3"
  },
  "language_info": {
   "codemirror_mode": {
    "name": "ipython",
    "version": 3
   },
   "file_extension": ".py",
   "mimetype": "text/x-python",
   "name": "python",
   "nbconvert_exporter": "python",
   "pygments_lexer": "ipython3",
   "version": "3.9.12"
  }
 },
 "nbformat": 4,
 "nbformat_minor": 5
}
